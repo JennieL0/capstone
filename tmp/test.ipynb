{
 "cells": [
  {
   "cell_type": "code",
   "execution_count": 97,
   "metadata": {},
   "outputs": [],
   "source": [
    "import pandas as pd\n",
    "ret = pd.read_csv('../data/mid_cap_all_sectors_ret.csv', index_col='date') * 100"
   ]
  },
  {
   "cell_type": "code",
   "execution_count": 98,
   "metadata": {},
   "outputs": [],
   "source": [
    "ret = ret.stack()"
   ]
  },
  {
   "cell_type": "code",
   "execution_count": 99,
   "metadata": {},
   "outputs": [],
   "source": [
    "df = ret.reset_index()\n",
    "df.columns = ['date', 'sector', 'ret']\n",
    "df = df.set_index(['date', 'sector'])"
   ]
  },
  {
   "cell_type": "code",
   "execution_count": 100,
   "metadata": {},
   "outputs": [],
   "source": [
    "unique_dates = df.index.get_level_values('date').unique()\n",
    "\n",
    "n = int(len(unique_dates) * 0.8)\n",
    "train_n = int(n * 0.95)\n",
    "tmp_dates = unique_dates[:n]\n",
    "train_dates = tmp_dates[:train_n]\n",
    "valid_dates = tmp_dates[train_n:]\n",
    "\n",
    "train_df = df.loc[train_dates]\n",
    "valid_df = df.loc[valid_dates]"
   ]
  },
  {
   "cell_type": "code",
   "execution_count": 104,
   "metadata": {},
   "outputs": [
    {
     "data": {
      "text/plain": [
       "date        sector   \n",
       "2000-01-04  Materials   -1.115250\n",
       "2000-01-05  Materials    1.450299\n",
       "2000-01-06  Materials    1.915120\n",
       "2000-01-07  Materials    0.146314\n",
       "2000-01-10  Materials    0.235475\n",
       "                           ...   \n",
       "2018-09-21  Materials   -0.529251\n",
       "2018-09-24  Materials   -0.808885\n",
       "2018-09-25  Materials   -0.522333\n",
       "2018-09-26  Materials   -0.771957\n",
       "2018-09-27  Materials   -0.430742\n",
       "Name: ret, Length: 4714, dtype: float64"
      ]
     },
     "execution_count": 104,
     "metadata": {},
     "output_type": "execute_result"
    }
   ],
   "source": [
    "train_df.loc[(slice(None), \"Materials\"), :]['ret']"
   ]
  },
  {
   "cell_type": "code",
   "execution_count": 94,
   "metadata": {},
   "outputs": [
    {
     "data": {
      "text/html": [
       "<div>\n",
       "<style scoped>\n",
       "    .dataframe tbody tr th:only-of-type {\n",
       "        vertical-align: middle;\n",
       "    }\n",
       "\n",
       "    .dataframe tbody tr th {\n",
       "        vertical-align: top;\n",
       "    }\n",
       "\n",
       "    .dataframe thead th {\n",
       "        text-align: right;\n",
       "    }\n",
       "</style>\n",
       "<table border=\"1\" class=\"dataframe\">\n",
       "  <thead>\n",
       "    <tr style=\"text-align: right;\">\n",
       "      <th></th>\n",
       "      <th></th>\n",
       "      <th>ret</th>\n",
       "    </tr>\n",
       "    <tr>\n",
       "      <th>date</th>\n",
       "      <th>sector</th>\n",
       "      <th></th>\n",
       "    </tr>\n",
       "  </thead>\n",
       "  <tbody>\n",
       "    <tr>\n",
       "      <th rowspan=\"5\" valign=\"top\">2018-09-28</th>\n",
       "      <th>Materials</th>\n",
       "      <td>-0.258594</td>\n",
       "    </tr>\n",
       "    <tr>\n",
       "      <th>Industrials</th>\n",
       "      <td>0.208235</td>\n",
       "    </tr>\n",
       "    <tr>\n",
       "      <th>Health Care</th>\n",
       "      <td>0.987667</td>\n",
       "    </tr>\n",
       "    <tr>\n",
       "      <th>Real Estate</th>\n",
       "      <td>1.560265</td>\n",
       "    </tr>\n",
       "    <tr>\n",
       "      <th>Consumer Discretionary</th>\n",
       "      <td>-0.313496</td>\n",
       "    </tr>\n",
       "    <tr>\n",
       "      <th>...</th>\n",
       "      <th>...</th>\n",
       "      <td>...</td>\n",
       "    </tr>\n",
       "    <tr>\n",
       "      <th rowspan=\"5\" valign=\"top\">2019-09-25</th>\n",
       "      <th>Utilities</th>\n",
       "      <td>0.562569</td>\n",
       "    </tr>\n",
       "    <tr>\n",
       "      <th>Information Technology</th>\n",
       "      <td>2.061007</td>\n",
       "    </tr>\n",
       "    <tr>\n",
       "      <th>Energy</th>\n",
       "      <td>0.365385</td>\n",
       "    </tr>\n",
       "    <tr>\n",
       "      <th>Consumer Staples</th>\n",
       "      <td>0.863540</td>\n",
       "    </tr>\n",
       "    <tr>\n",
       "      <th>Communication Services</th>\n",
       "      <td>1.320629</td>\n",
       "    </tr>\n",
       "  </tbody>\n",
       "</table>\n",
       "<p>2739 rows × 1 columns</p>\n",
       "</div>"
      ],
      "text/plain": [
       "                                        ret\n",
       "date       sector                          \n",
       "2018-09-28 Materials              -0.258594\n",
       "           Industrials             0.208235\n",
       "           Health Care             0.987667\n",
       "           Real Estate             1.560265\n",
       "           Consumer Discretionary -0.313496\n",
       "...                                     ...\n",
       "2019-09-25 Utilities               0.562569\n",
       "           Information Technology  2.061007\n",
       "           Energy                  0.365385\n",
       "           Consumer Staples        0.863540\n",
       "           Communication Services  1.320629\n",
       "\n",
       "[2739 rows x 1 columns]"
      ]
     },
     "execution_count": 94,
     "metadata": {},
     "output_type": "execute_result"
    }
   ],
   "source": [
    "valid_df"
   ]
  },
  {
   "cell_type": "code",
   "execution_count": 44,
   "metadata": {},
   "outputs": [],
   "source": [
    "import torch\n",
    "import torch.nn as nn\n",
    "import numpy as np\n",
    "\n",
    "def data_to_tensor(data, dtype=torch.float32):\n",
    "    device = torch.device(\"mps\" if torch.backends.mps.is_available() else \"cpu\")\n",
    "    return torch.tensor(np.array(data), dtype=dtype).to(device)\n",
    "\n",
    "class CnnSeqDataset(torch.utils.data.Dataset):\n",
    "    def __init__(self, data, selected_features, seq_n):\n",
    "        df = data.swaplevel().sort_index().copy()\n",
    "        sample_index = df.groupby('sector')[selected_features].shift(seq_n-1).dropna().index.tolist()\n",
    "        inputs = df.loc[:, selected_features]\n",
    "\n",
    "        self.data_list = []\n",
    "        for sample in sample_index:\n",
    "            data_tensor = data_to_tensor(inputs.loc[:sample].iloc[-seq_n:].T)\n",
    "            data_tuple = (data_tensor, data_tensor)\n",
    "            self.data_list.append(data_tuple)\n",
    "\n",
    "    def __len__(self):\n",
    "        return len(self.data_list)\n",
    "\n",
    "    def __getitem__(self, idx):\n",
    "        return self.data_list[idx]\n"
   ]
  },
  {
   "cell_type": "code",
   "execution_count": 45,
   "metadata": {},
   "outputs": [
    {
     "name": "stdout",
     "output_type": "stream",
     "text": [
      "[('Communication Services', '2000-02-01'), ('Communication Services', '2000-02-02'), ('Communication Services', '2000-02-03'), ('Communication Services', '2000-02-04'), ('Communication Services', '2000-02-07'), ('Communication Services', '2000-02-08'), ('Communication Services', '2000-02-09'), ('Communication Services', '2000-02-10'), ('Communication Services', '2000-02-11'), ('Communication Services', '2000-02-14'), ('Communication Services', '2000-02-15'), ('Communication Services', '2000-02-16'), ('Communication Services', '2000-02-17'), ('Communication Services', '2000-02-18'), ('Communication Services', '2000-02-22'), ('Communication Services', '2000-02-23'), ('Communication Services', '2000-02-24'), ('Communication Services', '2000-02-25'), ('Communication Services', '2000-02-28'), ('Communication Services', '2000-02-29')]\n"
     ]
    }
   ],
   "source": [
    "dataset = Dataset(df, ['ret'], 20)"
   ]
  },
  {
   "cell_type": "code",
   "execution_count": 75,
   "metadata": {},
   "outputs": [
    {
     "data": {
      "text/plain": [
       "68035"
      ]
     },
     "execution_count": 75,
     "metadata": {},
     "output_type": "execute_result"
    }
   ],
   "source": [
    "len(dataset)"
   ]
  }
 ],
 "metadata": {
  "kernelspec": {
   "display_name": "capstone",
   "language": "python",
   "name": "python3"
  },
  "language_info": {
   "codemirror_mode": {
    "name": "ipython",
    "version": 3
   },
   "file_extension": ".py",
   "mimetype": "text/x-python",
   "name": "python",
   "nbconvert_exporter": "python",
   "pygments_lexer": "ipython3",
   "version": "3.10.14"
  }
 },
 "nbformat": 4,
 "nbformat_minor": 2
}
