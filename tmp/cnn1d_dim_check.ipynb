{
 "cells": [
  {
   "cell_type": "code",
   "execution_count": 12,
   "metadata": {},
   "outputs": [],
   "source": [
    "import numpy as np\n",
    "import pandas as pd\n",
    "import matplotlib.pyplot as plt \n",
    "import torch\n",
    "import torch.nn as nn\n",
    "import torch.optim as optim\n",
    "import torch.nn.functional as f\n",
    "import numpy as np\n",
    "def data_to_tensor(data, dtype=torch.float32):\n",
    "    device = torch.device(\"mps\" if torch.backends.mps.is_available() else \"cpu\")\n",
    "    return torch.tensor(np.array(data), dtype=dtype).to(device)\n",
    "\n",
    "class CNNChannelDataset(torch.utils.data.Dataset):\n",
    "    def __init__(self, data: pd.DataFrame, seq_n: int, exclude = True) -> None:\n",
    "        sample_index = data.shift(seq_n-1).dropna().index.tolist()\n",
    "        self.data_list = []\n",
    "        for sample in sample_index:\n",
    "            if exclude:\n",
    "                 exclude_date_start = pd.to_datetime('2008-08-01')\n",
    "                 exclude_date_end = pd.to_datetime('2009-04-01')\n",
    "                 if exclude_date_start <= pd.to_datetime(sample) <= exclude_date_end:\n",
    "                    continue\n",
    "                 \n",
    "            data_tensor = data_to_tensor(data.loc[:sample].iloc[-seq_n:].T)\n",
    "            data_tuple = (data_tensor, data_tensor)\n",
    "            self.data_list.append(data_tuple)\n",
    "\n",
    "    def __len__(self):\n",
    "        return len(self.data_list)\n",
    "    \n",
    "    def __getitem__(self, index):\n",
    "        return self.data_list[index]\n",
    "\n",
    "device = torch.device(\"mps\" if torch.backends.mps.is_available() else \"cpu\")\n",
    "seed = 42\n",
    "torch.manual_seed(seed)\n",
    "\n",
    "mid_cap_index = pd.read_csv('../data/mid_cap_all_sectors_ret.csv', index_col='date')\n",
    "ret = mid_cap_index * 100\n",
    "n = int(len(ret) * 0.8)\n",
    "train_n = int(n * 0.8)\n",
    "tmp = ret.iloc[:n]\n",
    "train_df = tmp.iloc[:train_n]\n",
    "valid_df = tmp.iloc[train_n:]\n",
    "\n",
    "input_dim = train_df.shape[1]\n",
    "seq_n = 20\n",
    "train_dataset = CNNChannelDataset(train_df, seq_n, exclude=True)"
   ]
  },
  {
   "cell_type": "code",
   "execution_count": 13,
   "metadata": {},
   "outputs": [
    {
     "data": {
      "text/plain": [
       "3783"
      ]
     },
     "execution_count": 13,
     "metadata": {},
     "output_type": "execute_result"
    }
   ],
   "source": [
    "len(train_dataset)"
   ]
  },
  {
   "cell_type": "code",
   "execution_count": 14,
   "metadata": {},
   "outputs": [],
   "source": [
    "valid_dataset = CNNChannelDataset(valid_df, seq_n, exclude=True)"
   ]
  },
  {
   "cell_type": "code",
   "execution_count": 15,
   "metadata": {},
   "outputs": [
    {
     "data": {
      "text/plain": [
       "974"
      ]
     },
     "execution_count": 15,
     "metadata": {},
     "output_type": "execute_result"
    }
   ],
   "source": [
    "len(valid_dataset)"
   ]
  },
  {
   "cell_type": "code",
   "execution_count": 16,
   "metadata": {},
   "outputs": [
    {
     "data": {
      "text/plain": [
       "torch.Size([11, 20])"
      ]
     },
     "execution_count": 16,
     "metadata": {},
     "output_type": "execute_result"
    }
   ],
   "source": [
    "valid_dataset[0][0].shape"
   ]
  },
  {
   "cell_type": "code",
   "execution_count": 17,
   "metadata": {},
   "outputs": [
    {
     "data": {
      "text/plain": [
       "tensor([ 0.8991, -0.7810, -1.2286,  0.1161, -2.0100,  2.5600,  0.7553, -1.6141,\n",
       "        -1.2755,  1.4477, -0.1290,  0.4776,  2.3201,  0.6755, -1.1295, -1.3862,\n",
       "         0.1219, -0.8741,  0.0721, -0.7097], device='mps:0')"
      ]
     },
     "execution_count": 17,
     "metadata": {},
     "output_type": "execute_result"
    }
   ],
   "source": [
    "valid_dataset[0][0][0,:]"
   ]
  },
  {
   "cell_type": "code",
   "execution_count": 18,
   "metadata": {},
   "outputs": [
    {
     "data": {
      "text/plain": [
       "date\n",
       "2015-10-15    0.899112\n",
       "2015-10-16   -0.780959\n",
       "2015-10-19   -1.228553\n",
       "2015-10-20    0.116133\n",
       "2015-10-21   -2.010037\n",
       "2015-10-22    2.560004\n",
       "2015-10-23    0.755332\n",
       "2015-10-26   -1.614055\n",
       "2015-10-27   -1.275462\n",
       "2015-10-28    1.447740\n",
       "2015-10-29   -0.128994\n",
       "2015-10-30    0.477637\n",
       "2015-11-02    2.320069\n",
       "2015-11-03    0.675544\n",
       "2015-11-04   -1.129488\n",
       "2015-11-05   -1.386199\n",
       "2015-11-06    0.121921\n",
       "2015-11-09   -0.874123\n",
       "2015-11-10    0.072062\n",
       "2015-11-11   -0.709686\n",
       "Name: Materials, dtype: float64"
      ]
     },
     "execution_count": 18,
     "metadata": {},
     "output_type": "execute_result"
    }
   ],
   "source": [
    "valid_df.iloc[0:20,0]"
   ]
  },
  {
   "cell_type": "code",
   "execution_count": 24,
   "metadata": {},
   "outputs": [
    {
     "data": {
      "text/html": [
       "<div>\n",
       "<style scoped>\n",
       "    .dataframe tbody tr th:only-of-type {\n",
       "        vertical-align: middle;\n",
       "    }\n",
       "\n",
       "    .dataframe tbody tr th {\n",
       "        vertical-align: top;\n",
       "    }\n",
       "\n",
       "    .dataframe thead th {\n",
       "        text-align: right;\n",
       "    }\n",
       "</style>\n",
       "<table border=\"1\" class=\"dataframe\">\n",
       "  <thead>\n",
       "    <tr style=\"text-align: right;\">\n",
       "      <th></th>\n",
       "      <th>Materials</th>\n",
       "      <th>Industrials</th>\n",
       "      <th>Health Care</th>\n",
       "      <th>Real Estate</th>\n",
       "      <th>Consumer Discretionary</th>\n",
       "      <th>Financials</th>\n",
       "      <th>Utilities</th>\n",
       "      <th>Information Technology</th>\n",
       "      <th>Energy</th>\n",
       "      <th>Consumer Staples</th>\n",
       "      <th>Communication Services</th>\n",
       "    </tr>\n",
       "    <tr>\n",
       "      <th>date</th>\n",
       "      <th></th>\n",
       "      <th></th>\n",
       "      <th></th>\n",
       "      <th></th>\n",
       "      <th></th>\n",
       "      <th></th>\n",
       "      <th></th>\n",
       "      <th></th>\n",
       "      <th></th>\n",
       "      <th></th>\n",
       "      <th></th>\n",
       "    </tr>\n",
       "  </thead>\n",
       "  <tbody>\n",
       "    <tr>\n",
       "      <th>2015-11-11</th>\n",
       "      <td>1.274430</td>\n",
       "      <td>1.197362</td>\n",
       "      <td>1.768121</td>\n",
       "      <td>1.010746</td>\n",
       "      <td>1.017918</td>\n",
       "      <td>1.251349</td>\n",
       "      <td>1.208442</td>\n",
       "      <td>1.372668</td>\n",
       "      <td>2.533204</td>\n",
       "      <td>1.041177</td>\n",
       "      <td>1.578974</td>\n",
       "    </tr>\n",
       "    <tr>\n",
       "      <th>2015-11-12</th>\n",
       "      <td>1.418532</td>\n",
       "      <td>1.368330</td>\n",
       "      <td>1.885932</td>\n",
       "      <td>1.003793</td>\n",
       "      <td>1.034886</td>\n",
       "      <td>1.320464</td>\n",
       "      <td>1.179030</td>\n",
       "      <td>1.426179</td>\n",
       "      <td>2.506651</td>\n",
       "      <td>1.305854</td>\n",
       "      <td>1.595268</td>\n",
       "    </tr>\n",
       "    <tr>\n",
       "      <th>2015-11-13</th>\n",
       "      <td>1.422650</td>\n",
       "      <td>1.352572</td>\n",
       "      <td>1.892655</td>\n",
       "      <td>1.010378</td>\n",
       "      <td>1.207406</td>\n",
       "      <td>1.343220</td>\n",
       "      <td>1.178586</td>\n",
       "      <td>1.442747</td>\n",
       "      <td>2.605158</td>\n",
       "      <td>1.259928</td>\n",
       "      <td>1.603272</td>\n",
       "    </tr>\n",
       "    <tr>\n",
       "      <th>2015-11-16</th>\n",
       "      <td>1.437995</td>\n",
       "      <td>1.382369</td>\n",
       "      <td>1.892467</td>\n",
       "      <td>1.005447</td>\n",
       "      <td>1.239528</td>\n",
       "      <td>1.361238</td>\n",
       "      <td>1.282009</td>\n",
       "      <td>1.458200</td>\n",
       "      <td>2.698825</td>\n",
       "      <td>1.271578</td>\n",
       "      <td>1.645992</td>\n",
       "    </tr>\n",
       "    <tr>\n",
       "      <th>2015-11-17</th>\n",
       "      <td>1.459591</td>\n",
       "      <td>1.387995</td>\n",
       "      <td>1.857816</td>\n",
       "      <td>1.005674</td>\n",
       "      <td>1.240432</td>\n",
       "      <td>1.356677</td>\n",
       "      <td>1.331811</td>\n",
       "      <td>1.444327</td>\n",
       "      <td>2.766972</td>\n",
       "      <td>1.266834</td>\n",
       "      <td>1.631911</td>\n",
       "    </tr>\n",
       "    <tr>\n",
       "      <th>...</th>\n",
       "      <td>...</td>\n",
       "      <td>...</td>\n",
       "      <td>...</td>\n",
       "      <td>...</td>\n",
       "      <td>...</td>\n",
       "      <td>...</td>\n",
       "      <td>...</td>\n",
       "      <td>...</td>\n",
       "      <td>...</td>\n",
       "      <td>...</td>\n",
       "      <td>...</td>\n",
       "    </tr>\n",
       "    <tr>\n",
       "      <th>2019-09-19</th>\n",
       "      <td>1.494247</td>\n",
       "      <td>1.304049</td>\n",
       "      <td>1.163494</td>\n",
       "      <td>0.715995</td>\n",
       "      <td>1.553525</td>\n",
       "      <td>1.226418</td>\n",
       "      <td>0.792354</td>\n",
       "      <td>1.517996</td>\n",
       "      <td>3.784347</td>\n",
       "      <td>1.029020</td>\n",
       "      <td>1.654919</td>\n",
       "    </tr>\n",
       "    <tr>\n",
       "      <th>2019-09-20</th>\n",
       "      <td>1.480756</td>\n",
       "      <td>1.307500</td>\n",
       "      <td>1.130630</td>\n",
       "      <td>0.705739</td>\n",
       "      <td>1.546955</td>\n",
       "      <td>1.233716</td>\n",
       "      <td>0.791903</td>\n",
       "      <td>1.548306</td>\n",
       "      <td>3.764133</td>\n",
       "      <td>0.987930</td>\n",
       "      <td>1.651488</td>\n",
       "    </tr>\n",
       "    <tr>\n",
       "      <th>2019-09-23</th>\n",
       "      <td>1.312959</td>\n",
       "      <td>1.043919</td>\n",
       "      <td>0.948518</td>\n",
       "      <td>0.571382</td>\n",
       "      <td>1.244876</td>\n",
       "      <td>0.968073</td>\n",
       "      <td>0.635667</td>\n",
       "      <td>1.278850</td>\n",
       "      <td>3.599477</td>\n",
       "      <td>0.864468</td>\n",
       "      <td>1.550232</td>\n",
       "    </tr>\n",
       "    <tr>\n",
       "      <th>2019-09-24</th>\n",
       "      <td>1.421530</td>\n",
       "      <td>1.098914</td>\n",
       "      <td>1.128802</td>\n",
       "      <td>0.574531</td>\n",
       "      <td>1.283272</td>\n",
       "      <td>1.012595</td>\n",
       "      <td>0.583122</td>\n",
       "      <td>1.366815</td>\n",
       "      <td>3.790757</td>\n",
       "      <td>0.825388</td>\n",
       "      <td>1.627157</td>\n",
       "    </tr>\n",
       "    <tr>\n",
       "      <th>2019-09-25</th>\n",
       "      <td>1.396189</td>\n",
       "      <td>1.099143</td>\n",
       "      <td>1.083034</td>\n",
       "      <td>0.557564</td>\n",
       "      <td>1.237756</td>\n",
       "      <td>0.969449</td>\n",
       "      <td>0.573180</td>\n",
       "      <td>1.366164</td>\n",
       "      <td>3.722233</td>\n",
       "      <td>0.723327</td>\n",
       "      <td>1.609545</td>\n",
       "    </tr>\n",
       "  </tbody>\n",
       "</table>\n",
       "<p>974 rows × 11 columns</p>\n",
       "</div>"
      ],
      "text/plain": [
       "            Materials  Industrials  Health Care  Real Estate  \\\n",
       "date                                                           \n",
       "2015-11-11   1.274430     1.197362     1.768121     1.010746   \n",
       "2015-11-12   1.418532     1.368330     1.885932     1.003793   \n",
       "2015-11-13   1.422650     1.352572     1.892655     1.010378   \n",
       "2015-11-16   1.437995     1.382369     1.892467     1.005447   \n",
       "2015-11-17   1.459591     1.387995     1.857816     1.005674   \n",
       "...               ...          ...          ...          ...   \n",
       "2019-09-19   1.494247     1.304049     1.163494     0.715995   \n",
       "2019-09-20   1.480756     1.307500     1.130630     0.705739   \n",
       "2019-09-23   1.312959     1.043919     0.948518     0.571382   \n",
       "2019-09-24   1.421530     1.098914     1.128802     0.574531   \n",
       "2019-09-25   1.396189     1.099143     1.083034     0.557564   \n",
       "\n",
       "            Consumer Discretionary  Financials  Utilities  \\\n",
       "date                                                        \n",
       "2015-11-11                1.017918    1.251349   1.208442   \n",
       "2015-11-12                1.034886    1.320464   1.179030   \n",
       "2015-11-13                1.207406    1.343220   1.178586   \n",
       "2015-11-16                1.239528    1.361238   1.282009   \n",
       "2015-11-17                1.240432    1.356677   1.331811   \n",
       "...                            ...         ...        ...   \n",
       "2019-09-19                1.553525    1.226418   0.792354   \n",
       "2019-09-20                1.546955    1.233716   0.791903   \n",
       "2019-09-23                1.244876    0.968073   0.635667   \n",
       "2019-09-24                1.283272    1.012595   0.583122   \n",
       "2019-09-25                1.237756    0.969449   0.573180   \n",
       "\n",
       "            Information Technology    Energy  Consumer Staples  \\\n",
       "date                                                             \n",
       "2015-11-11                1.372668  2.533204          1.041177   \n",
       "2015-11-12                1.426179  2.506651          1.305854   \n",
       "2015-11-13                1.442747  2.605158          1.259928   \n",
       "2015-11-16                1.458200  2.698825          1.271578   \n",
       "2015-11-17                1.444327  2.766972          1.266834   \n",
       "...                            ...       ...               ...   \n",
       "2019-09-19                1.517996  3.784347          1.029020   \n",
       "2019-09-20                1.548306  3.764133          0.987930   \n",
       "2019-09-23                1.278850  3.599477          0.864468   \n",
       "2019-09-24                1.366815  3.790757          0.825388   \n",
       "2019-09-25                1.366164  3.722233          0.723327   \n",
       "\n",
       "            Communication Services  \n",
       "date                                \n",
       "2015-11-11                1.578974  \n",
       "2015-11-12                1.595268  \n",
       "2015-11-13                1.603272  \n",
       "2015-11-16                1.645992  \n",
       "2015-11-17                1.631911  \n",
       "...                            ...  \n",
       "2019-09-19                1.654919  \n",
       "2019-09-20                1.651488  \n",
       "2019-09-23                1.550232  \n",
       "2019-09-24                1.627157  \n",
       "2019-09-25                1.609545  \n",
       "\n",
       "[974 rows x 11 columns]"
      ]
     },
     "execution_count": 24,
     "metadata": {},
     "output_type": "execute_result"
    }
   ],
   "source": [
    "vol_df = (valid_df).rolling(seq_n).std().dropna()\n",
    "vol_df"
   ]
  },
  {
   "cell_type": "code",
   "execution_count": 43,
   "metadata": {},
   "outputs": [
    {
     "data": {
      "text/plain": [
       "{'Materials': {'low': 0.8721838637381618, 'high': 1.3675819710791473},\n",
       " 'Industrials': {'low': 0.8271148481134133, 'high': 1.1939285748614032},\n",
       " 'Health Care': {'low': 1.0330252326930105, 'high': 1.5209183302002873},\n",
       " 'Real Estate': {'low': 0.7167286686795477, 'high': 0.9837557315595057},\n",
       " 'Consumer Discretionary': {'low': 0.8438497447901601,\n",
       "  'high': 1.1583618059278578},\n",
       " 'Financials': {'low': 0.8548435384311283, 'high': 1.244340088946994},\n",
       " 'Utilities': {'low': 0.7367512348340797, 'high': 1.0007386471211765},\n",
       " 'Information Technology': {'low': 1.0272435160701177,\n",
       "  'high': 1.3922118538989268},\n",
       " 'Energy': {'low': 1.6862890588652093, 'high': 2.4190524869152688},\n",
       " 'Consumer Staples': {'low': 0.7427326278158609, 'high': 0.9591672543538732},\n",
       " 'Communication Services': {'low': 1.0160448301115739,\n",
       "  'high': 1.3896489586562735}}"
      ]
     },
     "execution_count": 43,
     "metadata": {},
     "output_type": "execute_result"
    }
   ],
   "source": [
    "thresholds_df = vol_df.quantile([0.3, 0.7]).T\n",
    "thresholds_df.apply(lambda row: {\"low\": row[0.3], \"high\": row[0.7]}, axis=1).to_dict()"
   ]
  },
  {
   "cell_type": "code",
   "execution_count": null,
   "metadata": {},
   "outputs": [],
   "source": [
    "regimes = pd.DataFrame(index=vol_df.index, columns=vol_df.columns)\n"
   ]
  },
  {
   "cell_type": "code",
   "execution_count": 27,
   "metadata": {},
   "outputs": [],
   "source": [
    "y = np.array([[8,2,3],\n",
    "              [7,1,6]])\n",
    "\n",
    "x = np.array([6,1,6])"
   ]
  },
  {
   "cell_type": "code",
   "execution_count": 28,
   "metadata": {},
   "outputs": [
    {
     "data": {
      "text/plain": [
       "(2, 3)"
      ]
     },
     "execution_count": 28,
     "metadata": {},
     "output_type": "execute_result"
    }
   ],
   "source": [
    "y.shape"
   ]
  },
  {
   "cell_type": "code",
   "execution_count": 29,
   "metadata": {},
   "outputs": [
    {
     "data": {
      "text/plain": [
       "(3,)"
      ]
     },
     "execution_count": 29,
     "metadata": {},
     "output_type": "execute_result"
    }
   ],
   "source": [
    "x.shape"
   ]
  },
  {
   "cell_type": "code",
   "execution_count": 30,
   "metadata": {},
   "outputs": [
    {
     "data": {
      "text/plain": [
       "array([[ True,  True, False],\n",
       "       [ True, False, False]])"
      ]
     },
     "execution_count": 30,
     "metadata": {},
     "output_type": "execute_result"
    }
   ],
   "source": [
    "y > x"
   ]
  },
  {
   "cell_type": "code",
   "execution_count": 16,
   "metadata": {},
   "outputs": [],
   "source": [
    "import itertools\n",
    "import pandas as pd\n",
    "param_grid = {\n",
    "        'hidden_channels1': [16,32, 64],\n",
    "        'activation_func': [nn.ReLU(), nn.LeakyReLU(), nn.Tanh()],\n",
    "        'dropout_rate': [0.1, 0.2],\n",
    "        'kernel_size': [3, 5, 7, 11],\n",
    "        'lr': [1e-3]\n",
    "    }\n",
    "\n",
    "param_list = [(hidden, func, dropout_rate, kernel, lr)\n",
    "    for hidden, func, dropout_rate, kernel,lr  in itertools.product(\n",
    "        param_grid['hidden_channels1'],\n",
    "        param_grid['activation_func'],\n",
    "        param_grid['dropout_rate'],\n",
    "        param_grid['kernel_size'],\n",
    "        param_grid['lr']\n",
    "    )\n",
    "]\n",
    "\n",
    "reslt = []\n",
    "for param in param_list:\n",
    "    hidden, func, dropout_rate, kernel, lr = param\n",
    "\n",
    "    reslt.append({\n",
    "        'hidden_channels1': hidden,\n",
    "        'activation_func': str(func),\n",
    "        'dropout_rate': dropout_rate,\n",
    "        'kernel_size': kernel,\n",
    "        'lr':lr,\n",
    "        'mae': 1 + np.random.uniform(0,1,1).item() \n",
    "    })\n",
    "\n",
    "reslt = pd.DataFrame(reslt)\n",
    "best_model_params = reslt.loc[reslt['mae'].idxmin()]"
   ]
  },
  {
   "cell_type": "code",
   "execution_count": 17,
   "metadata": {},
   "outputs": [
    {
     "data": {
      "text/html": [
       "<div>\n",
       "<style scoped>\n",
       "    .dataframe tbody tr th:only-of-type {\n",
       "        vertical-align: middle;\n",
       "    }\n",
       "\n",
       "    .dataframe tbody tr th {\n",
       "        vertical-align: top;\n",
       "    }\n",
       "\n",
       "    .dataframe thead th {\n",
       "        text-align: right;\n",
       "    }\n",
       "</style>\n",
       "<table border=\"1\" class=\"dataframe\">\n",
       "  <thead>\n",
       "    <tr style=\"text-align: right;\">\n",
       "      <th></th>\n",
       "      <th>hidden_channels1</th>\n",
       "      <th>activation_func</th>\n",
       "      <th>dropout_rate</th>\n",
       "      <th>kernel_size</th>\n",
       "      <th>lr</th>\n",
       "      <th>mae</th>\n",
       "    </tr>\n",
       "  </thead>\n",
       "  <tbody>\n",
       "    <tr>\n",
       "      <th>0</th>\n",
       "      <td>16</td>\n",
       "      <td>ReLU()</td>\n",
       "      <td>0.1</td>\n",
       "      <td>3</td>\n",
       "      <td>0.001</td>\n",
       "      <td>1.045890</td>\n",
       "    </tr>\n",
       "    <tr>\n",
       "      <th>1</th>\n",
       "      <td>16</td>\n",
       "      <td>ReLU()</td>\n",
       "      <td>0.1</td>\n",
       "      <td>5</td>\n",
       "      <td>0.001</td>\n",
       "      <td>1.928602</td>\n",
       "    </tr>\n",
       "    <tr>\n",
       "      <th>2</th>\n",
       "      <td>16</td>\n",
       "      <td>ReLU()</td>\n",
       "      <td>0.1</td>\n",
       "      <td>7</td>\n",
       "      <td>0.001</td>\n",
       "      <td>1.962618</td>\n",
       "    </tr>\n",
       "    <tr>\n",
       "      <th>3</th>\n",
       "      <td>16</td>\n",
       "      <td>ReLU()</td>\n",
       "      <td>0.1</td>\n",
       "      <td>11</td>\n",
       "      <td>0.001</td>\n",
       "      <td>1.072399</td>\n",
       "    </tr>\n",
       "    <tr>\n",
       "      <th>4</th>\n",
       "      <td>16</td>\n",
       "      <td>ReLU()</td>\n",
       "      <td>0.2</td>\n",
       "      <td>3</td>\n",
       "      <td>0.001</td>\n",
       "      <td>1.273290</td>\n",
       "    </tr>\n",
       "    <tr>\n",
       "      <th>...</th>\n",
       "      <td>...</td>\n",
       "      <td>...</td>\n",
       "      <td>...</td>\n",
       "      <td>...</td>\n",
       "      <td>...</td>\n",
       "      <td>...</td>\n",
       "    </tr>\n",
       "    <tr>\n",
       "      <th>67</th>\n",
       "      <td>64</td>\n",
       "      <td>Tanh()</td>\n",
       "      <td>0.1</td>\n",
       "      <td>11</td>\n",
       "      <td>0.001</td>\n",
       "      <td>1.689278</td>\n",
       "    </tr>\n",
       "    <tr>\n",
       "      <th>68</th>\n",
       "      <td>64</td>\n",
       "      <td>Tanh()</td>\n",
       "      <td>0.2</td>\n",
       "      <td>3</td>\n",
       "      <td>0.001</td>\n",
       "      <td>1.392316</td>\n",
       "    </tr>\n",
       "    <tr>\n",
       "      <th>69</th>\n",
       "      <td>64</td>\n",
       "      <td>Tanh()</td>\n",
       "      <td>0.2</td>\n",
       "      <td>5</td>\n",
       "      <td>0.001</td>\n",
       "      <td>1.702005</td>\n",
       "    </tr>\n",
       "    <tr>\n",
       "      <th>70</th>\n",
       "      <td>64</td>\n",
       "      <td>Tanh()</td>\n",
       "      <td>0.2</td>\n",
       "      <td>7</td>\n",
       "      <td>0.001</td>\n",
       "      <td>1.085890</td>\n",
       "    </tr>\n",
       "    <tr>\n",
       "      <th>71</th>\n",
       "      <td>64</td>\n",
       "      <td>Tanh()</td>\n",
       "      <td>0.2</td>\n",
       "      <td>11</td>\n",
       "      <td>0.001</td>\n",
       "      <td>1.781550</td>\n",
       "    </tr>\n",
       "  </tbody>\n",
       "</table>\n",
       "<p>72 rows × 6 columns</p>\n",
       "</div>"
      ],
      "text/plain": [
       "    hidden_channels1 activation_func  dropout_rate  kernel_size     lr  \\\n",
       "0                 16          ReLU()           0.1            3  0.001   \n",
       "1                 16          ReLU()           0.1            5  0.001   \n",
       "2                 16          ReLU()           0.1            7  0.001   \n",
       "3                 16          ReLU()           0.1           11  0.001   \n",
       "4                 16          ReLU()           0.2            3  0.001   \n",
       "..               ...             ...           ...          ...    ...   \n",
       "67                64          Tanh()           0.1           11  0.001   \n",
       "68                64          Tanh()           0.2            3  0.001   \n",
       "69                64          Tanh()           0.2            5  0.001   \n",
       "70                64          Tanh()           0.2            7  0.001   \n",
       "71                64          Tanh()           0.2           11  0.001   \n",
       "\n",
       "         mae  \n",
       "0   1.045890  \n",
       "1   1.928602  \n",
       "2   1.962618  \n",
       "3   1.072399  \n",
       "4   1.273290  \n",
       "..       ...  \n",
       "67  1.689278  \n",
       "68  1.392316  \n",
       "69  1.702005  \n",
       "70  1.085890  \n",
       "71  1.781550  \n",
       "\n",
       "[72 rows x 6 columns]"
      ]
     },
     "execution_count": 17,
     "metadata": {},
     "output_type": "execute_result"
    }
   ],
   "source": [
    "reslt"
   ]
  },
  {
   "cell_type": "code",
   "execution_count": 18,
   "metadata": {},
   "outputs": [
    {
     "data": {
      "text/plain": [
       "hidden_channels1          16\n",
       "activation_func       Tanh()\n",
       "dropout_rate             0.2\n",
       "kernel_size                5\n",
       "lr                     0.001\n",
       "mae                 1.000272\n",
       "Name: 21, dtype: object"
      ]
     },
     "execution_count": 18,
     "metadata": {},
     "output_type": "execute_result"
    }
   ],
   "source": [
    "best_model_params"
   ]
  }
 ],
 "metadata": {
  "kernelspec": {
   "display_name": "capstone",
   "language": "python",
   "name": "python3"
  },
  "language_info": {
   "codemirror_mode": {
    "name": "ipython",
    "version": 3
   },
   "file_extension": ".py",
   "mimetype": "text/x-python",
   "name": "python",
   "nbconvert_exporter": "python",
   "pygments_lexer": "ipython3",
   "version": "3.10.14"
  }
 },
 "nbformat": 4,
 "nbformat_minor": 2
}
