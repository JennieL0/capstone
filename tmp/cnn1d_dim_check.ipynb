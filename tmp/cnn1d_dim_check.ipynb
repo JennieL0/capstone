{
 "cells": [
  {
   "cell_type": "code",
   "execution_count": 3,
   "metadata": {},
   "outputs": [],
   "source": [
    "import numpy as np\n",
    "import pandas as pd\n",
    "import matplotlib.pyplot as plt \n",
    "import torch\n",
    "import torch.nn as nn\n",
    "import torch.optim as optim\n",
    "import torch.nn.functional as f\n",
    "def data_to_tensor(data, dtype=torch.float32):\n",
    "    device = torch.device(\"mps\" if torch.backends.mps.is_available() else \"cpu\")\n",
    "    return torch.tensor(np.array(data), dtype=dtype).to(device)\n",
    "\n",
    "class CNNChannelDataset(torch.utils.data.Dataset):\n",
    "    def __init__(self, data: pd.DataFrame, seq_n: int, exclude_date_start = '2008-08-01', exclude_date_end ='2009-04-01') -> None:\n",
    "        sample_index = data.shift(seq_n-1).dropna().index.tolist()\n",
    "        self.data_list = []\n",
    "        for sample in sample_index:\n",
    "            if pd.to_datetime(exclude_date_start) <= pd.to_datetime(sample) <= pd.to_datetime(exclude_date_end):\n",
    "                continue\n",
    "            data_tensor = data_to_tensor(data.loc[:sample].iloc[-seq_n:].T)\n",
    "            data_tuple = (data_tensor, data_tensor)\n",
    "            self.data_list.append(data_tuple)\n",
    "\n",
    "    def __len__(self):\n",
    "        return len(self.data_list)\n",
    "    \n",
    "    def __getitem__(self, index):\n",
    "        return self.data_list[index]\n",
    "\n",
    "device = torch.device(\"mps\" if torch.backends.mps.is_available() else \"cpu\")\n",
    "seed = 42\n",
    "torch.manual_seed(seed)\n",
    "\n",
    "mid_cap_index = pd.read_csv('../data/mid_cap_all_sectors_ret.csv', index_col='date')\n",
    "ret = mid_cap_index * 100\n",
    "n = int(len(ret) * 0.8)\n",
    "train_n = int(n * 0.8)\n",
    "tmp = ret.iloc[:n]\n",
    "train_df = tmp.iloc[:train_n]\n",
    "valid_df = tmp.iloc[train_n:]\n",
    "\n",
    "input_dim = train_df.shape[1]\n",
    "seq_n = 100\n",
    "train_dataset = CNNChannelDataset(train_df, seq_n)"
   ]
  },
  {
   "cell_type": "code",
   "execution_count": 8,
   "metadata": {},
   "outputs": [
    {
     "data": {
      "text/plain": [
       "3703"
      ]
     },
     "execution_count": 8,
     "metadata": {},
     "output_type": "execute_result"
    }
   ],
   "source": [
    "len(train_dataset)"
   ]
  },
  {
   "cell_type": "code",
   "execution_count": 9,
   "metadata": {},
   "outputs": [],
   "source": [
    "valid_dataset = CNNChannelDataset(valid_df, seq_n)"
   ]
  },
  {
   "cell_type": "code",
   "execution_count": 10,
   "metadata": {},
   "outputs": [
    {
     "data": {
      "text/plain": [
       "894"
      ]
     },
     "execution_count": 10,
     "metadata": {},
     "output_type": "execute_result"
    }
   ],
   "source": [
    "len(valid_dataset)"
   ]
  },
  {
   "cell_type": "code",
   "execution_count": 4,
   "metadata": {},
   "outputs": [
    {
     "data": {
      "text/plain": [
       "torch.Size([11, 100])"
      ]
     },
     "execution_count": 4,
     "metadata": {},
     "output_type": "execute_result"
    }
   ],
   "source": [
    "train_dataset[0][0].shape"
   ]
  },
  {
   "cell_type": "code",
   "execution_count": 5,
   "metadata": {},
   "outputs": [
    {
     "data": {
      "text/plain": [
       "tensor([-1.1153,  1.4503,  1.9151,  0.1463,  0.2355, -1.1988, -0.4537,  1.2009,\n",
       "        -0.7826, -0.3205, -0.4999, -1.4888, -0.1310, -1.2225, -1.2254,  0.6941,\n",
       "        -0.3964, -0.9279, -1.5058,  0.4917, -0.4280, -0.4284, -0.8743, -0.4611,\n",
       "         0.2229, -1.4902, -1.2817, -0.1858,  2.0856,  0.1991, -0.4207, -0.4453,\n",
       "        -2.2361, -0.4923, -2.1606, -1.4957, -1.2640,  0.2613,  0.0862, -0.3621,\n",
       "        -0.9226,  1.5017, -2.5942, -0.8134,  0.6152,  1.5348,  0.9780,  0.9661,\n",
       "        -2.5440,  2.7498,  5.1937, -1.3348, -0.2242,  0.6582, -0.7371,  1.2696,\n",
       "        -0.6286, -0.7516, -0.1700,  1.5803,  1.2503,  2.1284,  0.9733, -1.5711,\n",
       "        -0.5828,  1.2936, -0.4622, -0.7783,  1.6094,  0.3027, -0.3278, -2.8866,\n",
       "         0.1420, -0.3918, -0.5795,  1.0793, -1.5441,  1.8322, -0.1777,  0.1938,\n",
       "         1.3905,  0.9461,  0.2078, -1.9711,  1.0518,  0.6165, -0.7011, -0.9314,\n",
       "        -1.7466,  2.2142, -0.0506,  0.4815, -0.5831, -0.6365, -1.5877, -0.3565,\n",
       "        -0.3672, -0.9340,  0.4168, -1.2493], device='mps:0')"
      ]
     },
     "execution_count": 5,
     "metadata": {},
     "output_type": "execute_result"
    }
   ],
   "source": [
    "train_dataset[0][0][0,:]"
   ]
  },
  {
   "cell_type": "code",
   "execution_count": 7,
   "metadata": {},
   "outputs": [
    {
     "data": {
      "text/plain": [
       "date\n",
       "2000-01-04   -1.115250\n",
       "2000-01-05    1.450299\n",
       "2000-01-06    1.915120\n",
       "2000-01-07    0.146314\n",
       "2000-01-10    0.235475\n",
       "                ...   \n",
       "2000-05-19   -0.356475\n",
       "2000-05-22   -0.367219\n",
       "2000-05-23   -0.933987\n",
       "2000-05-24    0.416800\n",
       "2000-05-25   -1.249260\n",
       "Name: Materials, Length: 100, dtype: float64"
      ]
     },
     "execution_count": 7,
     "metadata": {},
     "output_type": "execute_result"
    }
   ],
   "source": [
    "train_df.iloc[0:100,0]"
   ]
  },
  {
   "cell_type": "code",
   "execution_count": 27,
   "metadata": {},
   "outputs": [],
   "source": [
    "y = np.array([[8,2,3],\n",
    "              [7,1,6]])\n",
    "\n",
    "x = np.array([6,1,6])"
   ]
  },
  {
   "cell_type": "code",
   "execution_count": 28,
   "metadata": {},
   "outputs": [
    {
     "data": {
      "text/plain": [
       "(2, 3)"
      ]
     },
     "execution_count": 28,
     "metadata": {},
     "output_type": "execute_result"
    }
   ],
   "source": [
    "y.shape"
   ]
  },
  {
   "cell_type": "code",
   "execution_count": 29,
   "metadata": {},
   "outputs": [
    {
     "data": {
      "text/plain": [
       "(3,)"
      ]
     },
     "execution_count": 29,
     "metadata": {},
     "output_type": "execute_result"
    }
   ],
   "source": [
    "x.shape"
   ]
  },
  {
   "cell_type": "code",
   "execution_count": 30,
   "metadata": {},
   "outputs": [
    {
     "data": {
      "text/plain": [
       "array([[ True,  True, False],\n",
       "       [ True, False, False]])"
      ]
     },
     "execution_count": 30,
     "metadata": {},
     "output_type": "execute_result"
    }
   ],
   "source": [
    "y > x"
   ]
  }
 ],
 "metadata": {
  "kernelspec": {
   "display_name": "capstone",
   "language": "python",
   "name": "python3"
  },
  "language_info": {
   "codemirror_mode": {
    "name": "ipython",
    "version": 3
   },
   "file_extension": ".py",
   "mimetype": "text/x-python",
   "name": "python",
   "nbconvert_exporter": "python",
   "pygments_lexer": "ipython3",
   "version": "3.10.14"
  }
 },
 "nbformat": 4,
 "nbformat_minor": 2
}
